{
 "cells": [
  {
   "cell_type": "code",
   "execution_count": 1,
   "id": "cf0ea766",
   "metadata": {},
   "outputs": [],
   "source": [
    "#Assignment 7"
   ]
  },
  {
   "cell_type": "code",
   "execution_count": null,
   "id": "80e6f569",
   "metadata": {},
   "outputs": [],
   "source": [
    "#Basic of python exercise"
   ]
  },
  {
   "cell_type": "code",
   "execution_count": null,
   "id": "9b86e5d2",
   "metadata": {},
   "outputs": [],
   "source": []
  },
  {
   "cell_type": "code",
   "execution_count": 3,
   "id": "7020b8c2",
   "metadata": {},
   "outputs": [],
   "source": [
    "# More Practice assignment\n",
    "# 1.\n",
    "# def main():\n",
    "#  x,y =8,4\n",
    "#  if(x < y):\n",
    "#   st= \"x is less than y\"\n",
    "#  else:\n",
    "#   st= \"x is greater than y\"\n",
    "#  print (st)\n",
    "# if __name__ == \"__main__\":\n",
    "#  main()"
   ]
  },
  {
   "cell_type": "code",
   "execution_count": 4,
   "id": "e52c71ce",
   "metadata": {},
   "outputs": [],
   "source": [
    "def main():\n",
    "    x,y=8,4\n",
    "    if x<y:\n",
    "        st=\"x is smaller than y \"\n",
    "    else:\n",
    "        st=\"x is greater than y\"\n",
    "    print(st)    "
   ]
  },
  {
   "cell_type": "code",
   "execution_count": 5,
   "id": "97b6aa59",
   "metadata": {},
   "outputs": [
    {
     "name": "stdout",
     "output_type": "stream",
     "text": [
      "x is greater than y\n"
     ]
    }
   ],
   "source": [
    "main()"
   ]
  },
  {
   "cell_type": "code",
   "execution_count": 6,
   "id": "8ab9f9f1",
   "metadata": {},
   "outputs": [],
   "source": [
    "#  2.\n",
    "#  def main():\n",
    "#   x,y =8,8\n",
    "#   if(x < y):\n",
    "#    st= \"x is less than y\"\n",
    "#   else:\n",
    "#    st= \"x is greater than y\"\n",
    "#   print(st)\n",
    "#  if __name__ == \"__main__\":\n",
    "#   main()"
   ]
  },
  {
   "cell_type": "code",
   "execution_count": 9,
   "id": "8544812b",
   "metadata": {},
   "outputs": [],
   "source": [
    "def main():\n",
    "    x,y=8,8\n",
    "    if x<y:\n",
    "        st=\"X is smaller than y\"\n",
    "    else:\n",
    "        st=\"X is greate than y\"\n",
    "    print(st)    "
   ]
  },
  {
   "cell_type": "code",
   "execution_count": 10,
   "id": "8df23eee",
   "metadata": {},
   "outputs": [
    {
     "name": "stdout",
     "output_type": "stream",
     "text": [
      "X is greate than y\n"
     ]
    }
   ],
   "source": [
    "main()"
   ]
  },
  {
   "cell_type": "code",
   "execution_count": 11,
   "id": "046f09ba",
   "metadata": {},
   "outputs": [],
   "source": [
    "# 3.\n",
    "# def main():\n",
    "#  x,y =8,8\n",
    "#  if(x < y):\n",
    "#   st= \"x is less than y\"\n",
    "#  elif (x == y):\n",
    "#   st= \"x is same as y\"\n",
    "#  else:\n",
    "#   st=\"x is greater than y\"\n",
    "#  print(st)\n",
    "# if __name__ == \"__main__\":\n",
    "#  main()"
   ]
  },
  {
   "cell_type": "code",
   "execution_count": 13,
   "id": "1210ab6c",
   "metadata": {},
   "outputs": [],
   "source": [
    "def main():\n",
    "    x,y=8,8\n",
    "    if x<y:\n",
    "        st=\"x is greater than y\"\n",
    "    elif x==y:\n",
    "        st=\"x is equal to y\"\n",
    "    else:\n",
    "        st:\"x is greater\"\n",
    "    print(st)"
   ]
  },
  {
   "cell_type": "code",
   "execution_count": 14,
   "id": "075656f3",
   "metadata": {},
   "outputs": [
    {
     "name": "stdout",
     "output_type": "stream",
     "text": [
      "x is equal to y\n"
     ]
    }
   ],
   "source": [
    "main()"
   ]
  },
  {
   "cell_type": "code",
   "execution_count": 15,
   "id": "07132240",
   "metadata": {},
   "outputs": [],
   "source": [
    "#  4.\n",
    "#  class myClass():\n",
    "#    def method1(self):\n",
    "#        print(\"DT\")\n",
    "#    def method2(self,someString):\n",
    "#        print(\"Software Testing:\" + someString)\n",
    "#  def main():\n",
    "#    # exercise the class methods\n",
    "#    c = myClass ()\n",
    "#    c.method1()\n",
    "#    c.method2(\" Testing is fun\")\n",
    "#  if __name__== \"__main__\":\n",
    "#    main()"
   ]
  },
  {
   "cell_type": "code",
   "execution_count": 20,
   "id": "9ab25cfd",
   "metadata": {},
   "outputs": [],
   "source": [
    "class Myclass:\n",
    "    def method1(self):\n",
    "        print(\"DT\")\n",
    "    def method2(self,some_string):\n",
    "        self.some_string=some_string\n",
    "        print(\"software\",some_string)\n",
    "        "
   ]
  },
  {
   "cell_type": "code",
   "execution_count": 21,
   "id": "e3deb153",
   "metadata": {},
   "outputs": [],
   "source": [
    "c=Myclass()"
   ]
  },
  {
   "cell_type": "code",
   "execution_count": 22,
   "id": "07e02ce3",
   "metadata": {},
   "outputs": [
    {
     "name": "stdout",
     "output_type": "stream",
     "text": [
      "DT\n"
     ]
    }
   ],
   "source": [
    "c.method1()"
   ]
  },
  {
   "cell_type": "code",
   "execution_count": 23,
   "id": "fa13b405",
   "metadata": {},
   "outputs": [
    {
     "name": "stdout",
     "output_type": "stream",
     "text": [
      "software computer\n"
     ]
    }
   ],
   "source": [
    "c.method2(\"computer\")"
   ]
  },
  {
   "cell_type": "code",
   "execution_count": 24,
   "id": "4af46fe6",
   "metadata": {},
   "outputs": [],
   "source": [
    "#   5.Print characters from a string that are present at an even index number   \n",
    "#   For example, str = \"DATATRAINED\" so you should display â€˜Dâ€™, â€˜Tâ€™, â€˜Tâ€™, â€˜Aâ€™,'N','D' .\n",
    "#   HINT:\n",
    "#   Use Python input() function to accept a string from a user.\n",
    "#   Calculate the length of string using the len() function \n",
    "#   Next, iterate each character of a string using for loop and range() function.\n",
    "#   Use start = 0, stop = len(s)-1, and step =2. the step is 2 because we want only even index numbers\n",
    "#   in each iteration of a loop, use s[i] to print character present at current even index number\n",
    "#   Solution:\n",
    "#   # accept input string from a user\n",
    "#   word = input('Enter word ')\n",
    "#   print(\"Original String:\", word)\n",
    "#   # get the length of a string\n",
    "#   size = len(word)\n",
    "#   # iterate a each character of a string\n",
    "#   # start: 0 to start with first character\n",
    "#   # stop: size-1 because index starts with 0\n",
    "#   # step: 2 to get the characters present at even index like 0, 2, 4\n",
    "#   print(\"Printing only even index chars\")\n",
    "#   for i in range(0, size - 1, 2):\n",
    "#       print(\"index[\", i, \"]\", word[i])"
   ]
  },
  {
   "cell_type": "code",
   "execution_count": 26,
   "id": "3de56220",
   "metadata": {},
   "outputs": [
    {
     "name": "stdout",
     "output_type": "stream",
     "text": [
      "Enter Your String  DataTrained\n",
      "D\n",
      "t\n",
      "T\n",
      "a\n",
      "n\n"
     ]
    }
   ],
   "source": [
    "word=input(\"Enter Your String  \")\n",
    "size=len(word)\n",
    "for i in range(0,size-1,2):\n",
    "    print(word[i])"
   ]
  },
  {
   "cell_type": "code",
   "execution_count": 27,
   "id": "ac543182",
   "metadata": {},
   "outputs": [],
   "source": [
    "#  6.\n",
    "#  Concatenate two lists index-wise\n",
    "#  Write a program to add two lists index-wise. Create a new list that contains the 0th index item \n",
    "#from both the list, then the 1st index item, and so on till the last element. any leftover items will \n",
    "#get added at the end of the new list.  \n",
    "#  Solution:  \n",
    "#  #Use the zip() function. This function takes two or more iterables (like list, dict, string), \n",
    "#   aggregates them in a tuple, and returns it.\n",
    "#  list1 = [\"M\", \"na\", \"i\", \"Ke\"]\n",
    "#  list2 = [\"y\", \"me\", \"s\", \"lly\"]\n",
    "#  list3 = [i + j for i, j in zip(list1, list2)] \n",
    "#  print(list3)"
   ]
  },
  {
   "cell_type": "code",
   "execution_count": 28,
   "id": "f6e1826e",
   "metadata": {},
   "outputs": [],
   "source": [
    "list1 = [\"M\", \"na\", \"i\", \"Ke\"]\n",
    "list2 = [\"y\", \"me\", \"s\", \"lly\"]"
   ]
  },
  {
   "cell_type": "code",
   "execution_count": 38,
   "id": "a5e47681",
   "metadata": {},
   "outputs": [],
   "source": [
    "list3=[i+j for i,j in zip(list1,list2)]"
   ]
  },
  {
   "cell_type": "code",
   "execution_count": 39,
   "id": "d18acbce",
   "metadata": {},
   "outputs": [
    {
     "data": {
      "text/plain": [
       "['My', 'name', 'is', 'Kelly']"
      ]
     },
     "execution_count": 39,
     "metadata": {},
     "output_type": "execute_result"
    }
   ],
   "source": [
    "list3"
   ]
  },
  {
   "cell_type": "code",
   "execution_count": null,
   "id": "f53567b2",
   "metadata": {},
   "outputs": [],
   "source": [
    "#7.\n",
    "#Turn every item of a list into its square.Given a list of numbers, write a program to turn every\n",
    "#item of a list into its square.\n",
    "#Solution:\n",
    "#numbers = [1, 2, 3, 4, 5, 6, 7]\n",
    "## result list\n",
    "#res = []\n",
    "#for i in numbers:\n",
    "#    # calculate square and add to the result list\n",
    "#    res.append(i * i)\n",
    "#print(res)"
   ]
  },
  {
   "cell_type": "code",
   "execution_count": 42,
   "id": "abedad35",
   "metadata": {},
   "outputs": [],
   "source": [
    "numbers = [1, 2, 3, 4, 5, 6, 7]\n",
    "res=[]\n",
    "for i in numbers:\n",
    "    res.append(i*i)\n",
    "    \n",
    "   \n"
   ]
  },
  {
   "cell_type": "code",
   "execution_count": 43,
   "id": "a9946a1f",
   "metadata": {},
   "outputs": [
    {
     "name": "stdout",
     "output_type": "stream",
     "text": [
      "[1, 4, 9, 16, 25, 36, 49]\n"
     ]
    }
   ],
   "source": [
    "print(res)"
   ]
  },
  {
   "cell_type": "code",
   "execution_count": 44,
   "id": "d17a57a6",
   "metadata": {},
   "outputs": [],
   "source": [
    "#  8.\n",
    "#  Replace listâ€™s item with new value if found\n",
    "#  You have given a Python list. Write a program to find value 20 in the list, and if it is present, \n",
    "#  replace it with 200. Only update the first occurrence of an item.\n",
    "#  Solution:\n",
    "#  list1 = [5, 10, 15, 20, 25, 50, 20]\n",
    "#  # get the first occurrence index\n",
    "#  index = list1.index(20)\n",
    "#  # update item present at location\n",
    "#  list1[index] = 200\n",
    "#  print(list1)"
   ]
  },
  {
   "cell_type": "code",
   "execution_count": 57,
   "id": "303a7f35",
   "metadata": {},
   "outputs": [],
   "source": [
    "list1 = [5, 10, 15, 20, 25, 50, 20]\n",
    "index=list1.index(20)\n",
    "list1[index]=200"
   ]
  },
  {
   "cell_type": "code",
   "execution_count": 59,
   "id": "709843e9",
   "metadata": {},
   "outputs": [
    {
     "data": {
      "text/plain": [
       "[5, 10, 15, 200, 25, 50, 20]"
      ]
     },
     "execution_count": 59,
     "metadata": {},
     "output_type": "execute_result"
    }
   ],
   "source": [
    "list1"
   ]
  },
  {
   "cell_type": "code",
   "execution_count": 60,
   "id": "109318c9",
   "metadata": {},
   "outputs": [],
   "source": [
    "list1 = [5, 10, 15, 20, 25, 50, 20]\n",
    "index=list1.index(25)\n",
    "list1[index]=250"
   ]
  },
  {
   "cell_type": "code",
   "execution_count": 61,
   "id": "fd001aa8",
   "metadata": {},
   "outputs": [
    {
     "data": {
      "text/plain": [
       "[5, 10, 15, 20, 250, 50, 20]"
      ]
     },
     "execution_count": 61,
     "metadata": {},
     "output_type": "execute_result"
    }
   ],
   "source": [
    "list1"
   ]
  },
  {
   "cell_type": "code",
   "execution_count": 62,
   "id": "1f048d74",
   "metadata": {},
   "outputs": [],
   "source": [
    "#  9.\n",
    "#  Write a Program to extract each digit from an integer in the reverse order.\n",
    "#  For example, If the given int is 7536, the output shall be â€œ6 3 5 7â€œ, with a space separating\n",
    "#  the digits.\n",
    "#  number = 7536\n",
    "#  print(\"Given number\", number)\n",
    "#  while number > 0:\n",
    "#      # get the last digit\n",
    "#      digit = number % 10\n",
    "#      # remove the last digit and repeat the loop\n",
    "#      number = number // 10\n",
    "#      print(digit, end=\" \")"
   ]
  },
  {
   "cell_type": "code",
   "execution_count": 76,
   "id": "6fd09ffe",
   "metadata": {},
   "outputs": [
    {
     "name": "stdout",
     "output_type": "stream",
     "text": [
      "6357"
     ]
    }
   ],
   "source": [
    "number = 7536\n",
    "while number>0:\n",
    "    sum=number % 10\n",
    "    number=number//10\n",
    "    print(sum,end=\"\")"
   ]
  },
  {
   "cell_type": "code",
   "execution_count": 77,
   "id": "c9c93752",
   "metadata": {},
   "outputs": [],
   "source": [
    "#  10.\n",
    "#  Task:\n",
    "#  Count the total number of digits in a number\n",
    "#  Solution:\n",
    "#  num = 75869\n",
    "#  count = 0\n",
    "#  while num != 0:\n",
    "#      # floor division\n",
    "#      # to reduce the last digit from number\n",
    "#      num = num // 10\n",
    "#      # increment counter by 1\n",
    "#      count = count + 1\n",
    "#  print(\"Total digits are:\", count)"
   ]
  },
  {
   "cell_type": "code",
   "execution_count": 86,
   "id": "38a6a3c4",
   "metadata": {},
   "outputs": [
    {
     "name": "stdout",
     "output_type": "stream",
     "text": [
      "16\n"
     ]
    }
   ],
   "source": [
    "num = 7586944566546849\n",
    "count=0\n",
    "while num!=0:\n",
    "    num=num//10\n",
    "    count=count+1\n",
    "print(count)    \n",
    "    \n",
    "    "
   ]
  },
  {
   "cell_type": "code",
   "execution_count": null,
   "id": "56714da9",
   "metadata": {},
   "outputs": [],
   "source": [
    "#Student of DataScience\n",
    "#Student of Datatrained-- Saurav\n",
    "#Date-06-07-2022\n",
    "#Time-09:07"
   ]
  },
  {
   "cell_type": "code",
   "execution_count": null,
   "id": "4fc0994b",
   "metadata": {},
   "outputs": [],
   "source": []
  }
 ],
 "metadata": {
  "kernelspec": {
   "display_name": "Python 3 (ipykernel)",
   "language": "python",
   "name": "python3"
  },
  "language_info": {
   "codemirror_mode": {
    "name": "ipython",
    "version": 3
   },
   "file_extension": ".py",
   "mimetype": "text/x-python",
   "name": "python",
   "nbconvert_exporter": "python",
   "pygments_lexer": "ipython3",
   "version": "3.9.12"
  }
 },
 "nbformat": 4,
 "nbformat_minor": 5
}
